{
 "cells": [
  {
   "cell_type": "code",
   "execution_count": 6,
   "id": "bb40b96d",
   "metadata": {},
   "outputs": [
    {
     "name": "stdout",
     "output_type": "stream",
     "text": [
      "Enter a number:10\n",
      "the value is: 10\n",
      "type of a is: <class 'int'>\n"
     ]
    }
   ],
   "source": [
    "a=int(input(\"Enter a number:\"))\n",
    "print(\"the value is:\",a)\n",
    "print(\"type of a is:\", type(a))"
   ]
  },
  {
   "cell_type": "code",
   "execution_count": 7,
   "id": "7b2ff52f",
   "metadata": {},
   "outputs": [
    {
     "name": "stdout",
     "output_type": "stream",
     "text": [
      "Enter a number:1\n",
      "Enter a number:2\n",
      "Addition is: 3\n"
     ]
    }
   ],
   "source": [
    "a=int(input(\"Enter a number:\"))\n",
    "b=int(input(\"Enter a number:\"))\n",
    "print(\"Addition is:\",a+b)"
   ]
  },
  {
   "cell_type": "code",
   "execution_count": 11,
   "id": "16f8b47d",
   "metadata": {},
   "outputs": [
    {
     "name": "stdout",
     "output_type": "stream",
     "text": [
      "Enter the year:1997\n",
      "This is not a leap year...\n"
     ]
    }
   ],
   "source": [
    "l_year=int(input('Enter the year:'))\n",
    "if (l_year%4 == 0):\n",
    "    print('This is a leap year...')\n",
    "else:\n",
    "    print('This is not a leap year...')"
   ]
  },
  {
   "cell_type": "code",
   "execution_count": 22,
   "id": "16d78f0d",
   "metadata": {},
   "outputs": [
    {
     "name": "stdout",
     "output_type": "stream",
     "text": [
      "Enter a number:10\n",
      "Enter a number:12\n",
      "after swapping, the value of x: 12 and the value of y: 10\n"
     ]
    }
   ],
   "source": [
    "x=int(input(\"Enter a number:\"))\n",
    "y=int(input(\"Enter a number:\"))\n",
    "x,y=y,x\n",
    "print(\"after swapping, the value of x:\",x,\"and the value of y:\",y)"
   ]
  },
  {
   "cell_type": "code",
   "execution_count": 3,
   "id": "7b332e6c",
   "metadata": {},
   "outputs": [
    {
     "name": "stdout",
     "output_type": "stream",
     "text": [
      "Enter a number:1\n",
      "Enter a number:2\n",
      "After swapping x: 2 \n",
      " and y is: 1\n"
     ]
    }
   ],
   "source": [
    "x=int(input(\"Enter a number:\"))\n",
    "y=int(input(\"Enter a number:\"))\n",
    "z=x\n",
    "x=y\n",
    "y=z\n",
    "print('After swapping x:',x,'\\n and y is:',y)"
   ]
  },
  {
   "cell_type": "code",
   "execution_count": 6,
   "id": "f8548566",
   "metadata": {},
   "outputs": [
    {
     "name": "stdout",
     "output_type": "stream",
     "text": [
      "Enter any character:A\n",
      "ASCII value is: 65\n"
     ]
    }
   ],
   "source": [
    "p=input(\"Enter any character:\")\n",
    "print(\"ASCII value is:\",ord(p))"
   ]
  },
  {
   "cell_type": "code",
   "execution_count": 13,
   "id": "fb478f3a",
   "metadata": {},
   "outputs": [
    {
     "name": "stdout",
     "output_type": "stream",
     "text": [
      "Enter any number:23\n",
      "The square root of the number is: 4.795831523312719\n"
     ]
    }
   ],
   "source": [
    "q=int(input(\"Enter any number:\"))\n",
    "print(\"The square root of the number is:\",(q**0.5))"
   ]
  },
  {
   "cell_type": "code",
   "execution_count": 14,
   "id": "488a4c9a",
   "metadata": {},
   "outputs": [
    {
     "name": "stdout",
     "output_type": "stream",
     "text": [
      "14\n"
     ]
    }
   ],
   "source": [
    "import random\n",
    "a=random.randint(0,15)\n",
    "print(a)"
   ]
  },
  {
   "cell_type": "code",
   "execution_count": 15,
   "id": "9a614b87",
   "metadata": {},
   "outputs": [
    {
     "data": {
      "text/plain": [
       "11"
      ]
     },
     "execution_count": 15,
     "metadata": {},
     "output_type": "execute_result"
    }
   ],
   "source": [
    "my_list=[\"udit\",\"ayan\",\"sayani maam\",10,20,30,\"DS\",\"AI\",\"Makaut\",2022,404]\n",
    "len(my_list)"
   ]
  },
  {
   "cell_type": "code",
   "execution_count": 16,
   "id": "bdc96b64",
   "metadata": {},
   "outputs": [
    {
     "data": {
      "text/plain": [
       "['DS', 'AI', 'Makaut', 2022, 404]"
      ]
     },
     "execution_count": 16,
     "metadata": {},
     "output_type": "execute_result"
    }
   ],
   "source": [
    "my_list[6:]"
   ]
  },
  {
   "cell_type": "code",
   "execution_count": 17,
   "id": "78cdbd1e",
   "metadata": {},
   "outputs": [
    {
     "data": {
      "text/plain": [
       "['udit', 'ayan', 'sayani maam', 10, 20, 30]"
      ]
     },
     "execution_count": 17,
     "metadata": {},
     "output_type": "execute_result"
    }
   ],
   "source": [
    "my_list[:6]"
   ]
  },
  {
   "cell_type": "code",
   "execution_count": 18,
   "id": "bdea7c1e",
   "metadata": {},
   "outputs": [
    {
     "data": {
      "text/plain": [
       "[10, 20, 30, 'DS', 'AI']"
      ]
     },
     "execution_count": 18,
     "metadata": {},
     "output_type": "execute_result"
    }
   ],
   "source": [
    "my_list[3:8]"
   ]
  },
  {
   "cell_type": "code",
   "execution_count": 20,
   "id": "418e8b81",
   "metadata": {},
   "outputs": [
    {
     "name": "stdout",
     "output_type": "stream",
     "text": [
      "enter the base: 1\n",
      "enter the hight: 1\n",
      "Area of the triangle be: 0.5\n"
     ]
    }
   ],
   "source": [
    "base=float(input(\"enter the base: \"))\n",
    "hight=float(input(\"enter the hight: \"))\n",
    "print('Area of the triangle be:',(0.5*base*hight))\n"
   ]
  },
  {
   "cell_type": "code",
   "execution_count": null,
   "id": "3c1c3f0d",
   "metadata": {},
   "outputs": [],
   "source": []
  }
 ],
 "metadata": {
  "kernelspec": {
   "display_name": "Python 3 (ipykernel)",
   "language": "python",
   "name": "python3"
  },
  "language_info": {
   "codemirror_mode": {
    "name": "ipython",
    "version": 3
   },
   "file_extension": ".py",
   "mimetype": "text/x-python",
   "name": "python",
   "nbconvert_exporter": "python",
   "pygments_lexer": "ipython3",
   "version": "3.9.12"
  }
 },
 "nbformat": 4,
 "nbformat_minor": 5
}
